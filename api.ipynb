{
 "cells": [
  {
   "cell_type": "markdown",
   "metadata": {},
   "source": [
    "# 接口说明交接书\n"
   ]
  },
  {
   "cell_type": "markdown",
   "metadata": {},
   "source": [
    "## 数据上传的接口说明书\n",
    "---\n",
    "注意: 编写这一部分的组员记得单独找我对接一下具体要求(一起商议)"
   ]
  },
  {
   "cell_type": "markdown",
   "metadata": {},
   "source": [
    "## 构建模型和训练的接口任务书\n",
    "---\n",
    "注意: 编写这一部分的组员记得单独找我对接一下具体要求\n"
   ]
  },
  {
   "cell_type": "markdown",
   "metadata": {},
   "source": [
    "\n",
    "### 总体概述\n"
   ]
  },
  {
   "cell_type": "markdown",
   "metadata": {},
   "source": [
    "\n",
    "本 API 提供神经网络模型的定义、编译、训练和层信息管理等接口。接口采用 `JSON` 数据传递，返回值为 `JSON` 格式。\n"
   ]
  },
  {
   "cell_type": "markdown",
   "metadata": {},
   "source": [
    "\n",
    "### 接口详情\n"
   ]
  },
  {
   "cell_type": "markdown",
   "metadata": {},
   "source": [
    "\n",
    "#### 1. 首页\n"
   ]
  },
  {
   "cell_type": "markdown",
   "metadata": {},
   "source": [
    "\n",
    "- **接口名称**：`主页`\n",
    "- **路径**：`/`\n",
    "- **请求方法**：GET\n",
    "- **描述**：返回首页 HTML 页面。\n",
    "\n",
    "**样式图**\n",
    "\n",
    "![image.png](./images/首页1.png)\n",
    "![image.png](./images/首页2.png)\n",
    "\n",
    "---\n"
   ]
  },
  {
   "cell_type": "markdown",
   "metadata": {},
   "source": [
    "\n",
    "#### 2. 编译模型\n"
   ]
  },
  {
   "cell_type": "markdown",
   "metadata": {},
   "source": [
    "\n",
    "- **接口名称**：`编译模型`\n",
    "- **路径**：`/compile`\n",
    "- **请求方法**：POST\n",
    "- **请求参数**：\n",
    "\n",
    "  | 参数名         | 类型      | 必填 | 默认值            | 描述                           |\n",
    "  | -------------- | --------- | ---- | ----------------- | ------------------------------ |\n",
    "  | optimizer      | String    | 否   | `sgd`            | 优化器名称                     |\n",
    "  | learning_rate  | Float     | 否   | `0.01`           | 学习率                         |\n",
    "  | loss           | String    | 否   | `categorical_crossentropy` | 损失函数 |\n",
    "  | learning_style | String    | 否   | `normal`         | 学习策略                       |\n",
    "  | step_min       | Integer   | 否   | `1000`           | 最小训练步数                   |\n",
    "  | step_max       | Integer   | 否   | `10000`          | 最大训练步数                   |\n",
    "  | init_method    | String    | 否   | `he`             | 参数初始化方法                 |\n",
    "\n",
    "- **响应**：\n",
    "\n",
    "  ```json\n",
    "  {\n",
    "    \"status\": \"Model compiled\"\n",
    "  }\n",
    "  ```\n",
    "\n",
    "**样式图**\n",
    "\n",
    "![image.png](./images/编译模型.png)\n",
    "\n",
    "---\n"
   ]
  },
  {
   "cell_type": "markdown",
   "metadata": {},
   "source": [
    "#### 3. 基础层"
   ]
  },
  {
   "cell_type": "markdown",
   "metadata": {},
   "source": [
    "\n",
    "##### 1. 添加卷积层\n"
   ]
  },
  {
   "cell_type": "markdown",
   "metadata": {},
   "source": [
    "\n",
    "- **接口名称**：`添加卷积层`\n",
    "- **路径**：`/add_conv`\n",
    "- **请求方法**：POST\n",
    "- **请求参数**：\n",
    "\n",
    "  | 参数名           | 类型   | 必填 | 描述          |\n",
    "  | ---------------- | ------ | ---- | ------------- |\n",
    "  | input_channels   | Integer | 是  | 输入通道数    |\n",
    "  | output_channels  | Integer | 是  | 输出通道数    |\n",
    "  | kernel_size      | Integer | 是  | 卷积核尺寸    |\n",
    "  | stride           | Integer | 否  | 步幅，默认 1  |\n",
    "  | padding          | Integer | 否  | 填充，默认 0  |\n",
    "\n",
    "- **响应**：\n",
    "\n",
    "  ```json\n",
    "  {\n",
    "    \"status\": \"Conv layer added\"\n",
    "  }\n",
    "  ```\n",
    "\n",
    "**样式图**\n",
    "\n",
    "![image.png](./images/卷积层.png)\n",
    "\n",
    "---\n"
   ]
  },
  {
   "cell_type": "markdown",
   "metadata": {},
   "source": [
    "\n",
    "##### 2. 添加池化层\n"
   ]
  },
  {
   "cell_type": "markdown",
   "metadata": {},
   "source": [
    "\n",
    "- **接口名称**：`添加池化层`\n",
    "- **路径**：`/add_max_pool`\n",
    "- **请求方法**：POST\n",
    "- **请求参数**：\n",
    "\n",
    "  | 参数名   | 类型   | 必填 | 描述    |\n",
    "  | -------- | ------ | ---- | ------- |\n",
    "  | pool_size | Integer | 是  | 池化大小 |\n",
    "  | stride   | Integer | 是  | 步幅    |\n",
    "\n",
    "- **响应**：\n",
    "\n",
    "  ```json\n",
    "  {\n",
    "    \"status\": \"Max pool layer added\"\n",
    "  }\n",
    "  ```\n",
    "\n",
    "**样式图**\n",
    "\n",
    "![image.png](./images/池化层.png)\n",
    "\n",
    "---\n"
   ]
  },
  {
   "cell_type": "markdown",
   "metadata": {},
   "source": [
    "\n",
    "##### 3. 添加展平层\n"
   ]
  },
  {
   "cell_type": "markdown",
   "metadata": {},
   "source": [
    "\n",
    "- **接口名称**：添加展平层\n",
    "- **路径**：`/add_flatten`\n",
    "- **请求方法**：POST\n",
    "- **描述**：添加展平层，通常用于将多维输入展平为一维。\n",
    "\n",
    "- **响应**：\n",
    "  ```json\n",
    "  {\n",
    "    \"status\": \"Flatten layer added\"\n",
    "  }\n",
    "  ```\n",
    "\n",
    "**样式图**\n",
    "\n",
    "![image.png](./images/展开层.png)\n",
    "\n",
    "---\n"
   ]
  },
  {
   "cell_type": "markdown",
   "metadata": {},
   "source": [
    "\n",
    "##### 4. 添加全连接层\n"
   ]
  },
  {
   "cell_type": "markdown",
   "metadata": {},
   "source": [
    "\n",
    "- **接口名称**：添加全连接层\n",
    "- **路径**：`/add_layer`\n",
    "- **请求方法**：POST\n",
    "- **请求参数**：\n",
    "  | 参数名      | 类型   | 必填 | 描述          |\n",
    "  | ----------- | ------ | ---- | ------------- |\n",
    "  | input_dim   | Integer | 是  | 输入维度      |\n",
    "  | output_dim  | Integer | 是  | 输出维度      |\n",
    "\n",
    "- **响应**：\n",
    "  ```json\n",
    "  {\n",
    "    \"status\": \"Layer added\"\n",
    "  }\n",
    "  ```\n",
    "\n",
    "**样式图**\n",
    "\n",
    "![image.png](./images/全连接层.png)\n",
    "\n",
    "---\n"
   ]
  },
  {
   "cell_type": "markdown",
   "metadata": {},
   "source": [
    "\n",
    "##### 5. 添加激活层\n"
   ]
  },
  {
   "cell_type": "markdown",
   "metadata": {},
   "source": [
    "\n",
    "- **接口名称**：添加激活层\n",
    "- **路径**：`/add_activation`\n",
    "- **请求方法**：POST\n",
    "- **请求参数**：\n",
    "  | 参数名      | 类型   | 必填 | 描述          |\n",
    "  | ----------- | ------ | ---- | ------------- |\n",
    "  | activation  | String | 是  | 激活函数名称   |\n",
    "\n",
    "- **响应**：\n",
    "  ```json\n",
    "  {\n",
    "    \"status\": \"Activation layer added\"\n",
    "  }\n",
    "  ```\n",
    "\n",
    "**样式图**\n",
    "\n",
    "![image.png](./images/激活函数层.png)\n",
    "\n",
    "---\n"
   ]
  },
  {
   "cell_type": "markdown",
   "metadata": {},
   "source": [
    "#### 4. 特殊层"
   ]
  },
  {
   "cell_type": "markdown",
   "metadata": {},
   "source": [
    "##### 1. 添加批归一化层"
   ]
  },
  {
   "cell_type": "markdown",
   "metadata": {},
   "source": [
    "\n",
    "- **接口名称**：添加批归一化层\n",
    "- **路径**：`/add_batch_norm`\n",
    "- **请求方法**：POST\n",
    "- **请求参数**：\n",
    "  | 参数名        | 类型   | 必填 | 描述          |\n",
    "  | ------------- | ------ | ---- | ------------- |\n",
    "  | num_features  | Integer | 是  | 特征数量      |\n",
    "\n",
    "- **响应**：\n",
    "  ```json\n",
    "  {\n",
    "    \"status\": \"Batch norm layer added\"\n",
    "  }\n",
    "  ```\n",
    "\n",
    "**样式图**\n",
    "\n",
    "![image.png](./images/批归一化层.png)\n",
    "\n",
    "---\n"
   ]
  },
  {
   "cell_type": "markdown",
   "metadata": {},
   "source": [
    "\n",
    "##### 2. 添加残差块\n"
   ]
  },
  {
   "cell_type": "markdown",
   "metadata": {},
   "source": [
    "\n",
    "- **接口名称**：添加残差块\n",
    "- **路径**：`/add_residual_block`\n",
    "- **请求方法**：POST\n",
    "- **请求参数**：\n",
    "  | 参数名           | 类型   | 必填 | 描述          |\n",
    "  | ---------------- | ------ | ---- | ------------- |\n",
    "  | input_channels   | Integer | 是  | 输入通道数    |\n",
    "  | output_channels  | Integer | 是  | 输出通道数    |\n",
    "  | stride           | Integer | 否  | 步幅，默认 1  |\n",
    "\n",
    "- **响应**：\n",
    "  ```json\n",
    "  {\n",
    "    \"status\": \"Residual block added\"\n",
    "  }\n",
    "  ```\n",
    "\n",
    "**样式图**\n",
    "\n",
    "![image.png](./images/残差模块层.png)\n",
    "\n",
    "---\n"
   ]
  },
  {
   "cell_type": "markdown",
   "metadata": {},
   "source": [
    "\n",
    "##### 3. 添加 Dropout 层\n"
   ]
  },
  {
   "cell_type": "markdown",
   "metadata": {},
   "source": [
    "\n",
    "- **接口名称**：添加 Dropout 层\n",
    "- **路径**：`/add_dropout`\n",
    "- **请求方法**：POST\n",
    "- **请求参数**：\n",
    "  | 参数名      | 类型   | 必填 | 描述          |\n",
    "  | ----------- | ------ | ---- | ------------- |\n",
    "  | p           | Float  | 是  | Dropout 比例   |\n",
    "\n",
    "- **响应**：\n",
    "  ```json\n",
    "  {\n",
    "    \"status\": \"Dropout layer added\"\n",
    "  }\n",
    "  ```\n",
    "\n",
    "**样式图**\n",
    "\n",
    "![image.png](./images/随机失活层.png)\n",
    "\n",
    "---\n"
   ]
  },
  {
   "cell_type": "markdown",
   "metadata": {},
   "source": [
    "\n",
    "#### 5. 训练模型\n"
   ]
  },
  {
   "cell_type": "markdown",
   "metadata": {},
   "source": [
    "\n",
    "- **接口名称**：`训练模型`\n",
    "- **路径**：`/fit`\n",
    "- **请求方法**：POST\n",
    "- **请求参数**：\n",
    "\n",
    "  | 参数名         | 类型      | 必填 | 描述                          |\n",
    "  | -------------- | --------- | ---- | ----------------------------- |\n",
    "  | epochs         | Integer   | 否   | 训练轮数，默认100              |\n",
    "  | save_metrics   | Boolean   | 否   | 是否保存训练指标               |\n",
    "  | save_dir       | String    | 否   | 保存路径，默认`./training_plots` |\n",
    "\n",
    "- **响应**：返回训练开始状态。\n",
    "\n",
    "  ```json\n",
    "  {\n",
    "    \"status\": \"Model training started\"\n",
    "  }\n",
    "  ```\n",
    "\n",
    "**样式图**\n",
    "\n",
    "![image.png](./images/训练配置.png)\n",
    "\n",
    "---\n"
   ]
  },
  {
   "cell_type": "markdown",
   "metadata": {},
   "source": [
    "\n",
    "#### 6. 获取模型层信息(在内置代码中展示)\n"
   ]
  },
  {
   "cell_type": "markdown",
   "metadata": {},
   "source": [
    "\n",
    "- **接口名称**：`获取层信息`\n",
    "- **路径**：`/get_layers_inf`\n",
    "- **请求方法**：GET\n",
    "- **描述**：返回当前模型结构的层信息。\n",
    "\n",
    "- **响应**：\n",
    "\n",
    "  ```json\n",
    "  {\n",
    "    \"layers\": [ /* layer details */ ]\n",
    "  }\n",
    "  ```\n"
   ]
  },
  {
   "cell_type": "markdown",
   "metadata": {},
   "source": [
    "\n",
    "#### 7. 获取最新训练数据(在训练过程中展示)\n"
   ]
  },
  {
   "cell_type": "markdown",
   "metadata": {},
   "source": [
    "\n",
    "- **接口名称**：`获取最新数据`\n",
    "- **路径**：`/latest_data`\n",
    "- **请求方法**：GET\n",
    "- **描述**：从 CSV 文件中读取最新训练数据。\n",
    "\n",
    "- **响应**：\n",
    "\n",
    "  ```json\n",
    "  {\n",
    "    \"data\": {\n",
    "      \"epoch\": [ /* epoch numbers */ ],\n",
    "      \"accuracy\": [ /* accuracy values */ ],\n",
    "      \"loss\": [ /* loss values */ ]\n",
    "    }\n",
    "  }\n",
    "  ```\n",
    "---\n"
   ]
  }
 ],
 "metadata": {
  "language_info": {
   "name": "python"
  }
 },
 "nbformat": 4,
 "nbformat_minor": 2
}
